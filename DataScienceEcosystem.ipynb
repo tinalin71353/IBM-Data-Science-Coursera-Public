{
 "cells": [
  {
   "cell_type": "markdown",
   "id": "db3fa6b1",
   "metadata": {},
   "source": [
    "# Data Science Tools and Ecosystem"
   ]
  },
  {
   "cell_type": "markdown",
   "id": "ecf3d8d8",
   "metadata": {},
   "source": [
    "In this notebook, Data Science Tools and Ecosystem are summarized."
   ]
  },
  {
   "cell_type": "markdown",
   "id": "70a6639a",
   "metadata": {},
   "source": [
    "**Objectives:**\n",
    "- list popular languages in Data Science\n",
    "- list commonly used libraries in Data Science\n",
    "- list development environments used by Data Scientists\n",
    "- provide examples of arithmetic using Python"
   ]
  },
  {
   "cell_type": "markdown",
   "id": "75410229",
   "metadata": {},
   "source": [
    "Some of the popular languages that Data Scientists use are:\n",
    "1. Python\n",
    "2. R\n",
    "3. SQL\n",
    "4. Scala\n",
    "5. Julia\n",
    "6. Java\n",
    "7. C++"
   ]
  },
  {
   "cell_type": "markdown",
   "id": "93b55eec",
   "metadata": {},
   "source": [
    "Some of the commonly used libraries used by Data Scientists include:\n",
    "1. NumPy (Python)\n",
    "2. SciPy (Python)\n",
    "3. pandas (Python)\n",
    "4. Matplotlib (Python)\n",
    "5. TensorFlow (Python)\n",
    "6. Scikit-learn (Python)\n",
    "7. Keras (Python)\n",
    "8. ggplot2 (R)\n",
    "9. caret (R)\n",
    "10. dplyr (R)"
   ]
  },
  {
   "cell_type": "markdown",
   "id": "1744e64d",
   "metadata": {},
   "source": [
    "| Data Science Tools|\n",
    "| ----------------- |\n",
    "| Jupyter Notebooks |\n",
    "| RStudio | \n",
    "| IBM Watson Studio |"
   ]
  },
  {
   "cell_type": "markdown",
   "id": "c26b1181",
   "metadata": {},
   "source": [
    "### Below are a few examples of evaluating arithmetic expressions in Python.\n"
   ]
  },
  {
   "cell_type": "code",
   "execution_count": 1,
   "id": "674ecac5",
   "metadata": {},
   "outputs": [
    {
     "data": {
      "text/plain": [
       "17"
      ]
     },
     "execution_count": 1,
     "metadata": {},
     "output_type": "execute_result"
    }
   ],
   "source": [
    "#This a simple arithmetic expression to mutiply then add integers\n",
    "(3*4)+5"
   ]
  },
  {
   "cell_type": "code",
   "execution_count": 4,
   "id": "81797d2e",
   "metadata": {},
   "outputs": [
    {
     "name": "stdout",
     "output_type": "stream",
     "text": [
      "3.3333333333333335\n"
     ]
    }
   ],
   "source": [
    "#This will convert 200 minutes to hours by diving by 60\n",
    "minutes = 200\n",
    "nhours = minutes/60\n",
    "print(nhours)"
   ]
  },
  {
   "cell_type": "markdown",
   "id": "899201af",
   "metadata": {},
   "source": [
    "## Author\n",
    "Tina Lin"
   ]
  },
  {
   "cell_type": "markdown",
   "id": "c35625c4",
   "metadata": {},
   "source": []
  }
 ],
 "metadata": {
  "kernelspec": {
   "display_name": "Python 3 (ipykernel)",
   "language": "python",
   "name": "python3"
  },
  "language_info": {
   "codemirror_mode": {
    "name": "ipython",
    "version": 3
   },
   "file_extension": ".py",
   "mimetype": "text/x-python",
   "name": "python",
   "nbconvert_exporter": "python",
   "pygments_lexer": "ipython3",
   "version": "3.9.12"
  }
 },
 "nbformat": 4,
 "nbformat_minor": 5
}
